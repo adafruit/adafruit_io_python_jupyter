{
 "cells": [
  {
   "cell_type": "markdown",
   "metadata": {},
   "source": [
    "# Welcome to the Adafruit IO Python Client Library"
   ]
  },
  {
   "cell_type": "markdown",
   "metadata": {},
   "source": [
    "![Adafruit IO Python Logo](https://cdn-learn.adafruit.com/assets/assets/000/057/558/original/adafruit_io_68747470733a2f2f63646e2d6c6561726e2e61646166727569742e636f6d2f6173736574732f6173736574732f3030302f3035372f3135332f6f726967696e616c2f61646166727569745f696f5f696f707974686f6e2e706e673f31353330383032303733.png)"
   ]
  },
  {
   "cell_type": "markdown",
   "metadata": {},
   "source": [
    "This interactive Jupyter notebook will get you started with the [Adafruit IO Python library](https://github.com/adafruit/io-client-python) - right from your browser! *You don't need to install anything on your computer*, and you'll be able to play with Adafruit IO."
   ]
  },
  {
   "cell_type": "markdown",
   "metadata": {},
   "source": [
    "## Import the Adafruit IO Python Library"
   ]
  },
  {
   "cell_type": "markdown",
   "metadata": {},
   "source": [
    "Let's begin by importing the Adafruit IO Python client library:"
   ]
  },
  {
   "cell_type": "code",
   "execution_count": null,
   "metadata": {},
   "outputs": [],
   "source": [
    "from Adafruit_IO import Client, RequestError, Feed"
   ]
  },
  {
   "cell_type": "markdown",
   "metadata": {},
   "source": [
    "Next, locate your Adafruit IO Key and Username. These are found on the left hand side of the [Adafruit IO homepage](http://io.adafruit.com). "
   ]
  },
  {
   "cell_type": "markdown",
   "metadata": {},
   "source": [
    "![Adafruit IO Key GIF](https://cdn-learn.adafruit.com/assets/assets/000/062/541/original/3d_printing_adafruit_io_username_and_password.gif?1537910337)"
   ]
  },
  {
   "cell_type": "markdown",
   "metadata": {},
   "source": [
    "Replace `IO_KEY` with your Adafruit IO Active Key."
   ]
  },
  {
   "cell_type": "code",
   "execution_count": null,
   "metadata": {},
   "outputs": [],
   "source": [
    "ADAFRUIT_IO_KEY = 'IO_KEY'"
   ]
  },
  {
   "cell_type": "markdown",
   "metadata": {},
   "source": [
    "and replace `IO_USERNAME` with your Adafruit IO Username."
   ]
  },
  {
   "cell_type": "code",
   "execution_count": null,
   "metadata": {},
   "outputs": [],
   "source": [
    "ADAFRUIT_IO_USERNAME = 'IO_USER'"
   ]
  },
  {
   "cell_type": "markdown",
   "metadata": {},
   "source": [
    "Next, let's create an instance of the Adafruit IO Client"
   ]
  },
  {
   "cell_type": "code",
   "execution_count": null,
   "metadata": {},
   "outputs": [],
   "source": [
    "aio = Client(ADAFRUIT_IO_USERNAME, ADAFRUIT_IO_KEY)"
   ]
  },
  {
   "cell_type": "markdown",
   "metadata": {},
   "source": [
    "We're going to create a new feed named `test_feed`. Adafruit IO Python does not automatically generate feeds *but* one can be created if it does not exist already."
   ]
  },
  {
   "cell_type": "code",
   "execution_count": null,
   "metadata": {},
   "outputs": [],
   "source": [
    "try:\n",
    "    test_feed = aio.feeds('test-feed')\n",
    "except RequestError: # Doesn't exist, create a new feed\n",
    "    test_feed = Feed(name='test-feed')\n",
    "    test_feed = aio.create_feed(test)"
   ]
  },
  {
   "cell_type": "markdown",
   "metadata": {},
   "source": [
    "Next, we're going to send the value `42` to our feed `test` using the `send_data()` method."
   ]
  },
  {
   "cell_type": "code",
   "execution_count": null,
   "metadata": {},
   "outputs": [],
   "source": [
    "aio.send_data(test_feed.key, 42)"
   ]
  },
  {
   "cell_type": "markdown",
   "metadata": {},
   "source": [
    "The data has been sent to Adafruit IO - but how do we get it back? We'll use the `receive()` method and pass in the `test` feed. "
   ]
  },
  {
   "cell_type": "code",
   "execution_count": null,
   "metadata": {},
   "outputs": [],
   "source": [
    "data = aio.receive(test_feed.key)\n",
    "print('Latest value from Test: {0}'.format(data.value))"
   ]
  },
  {
   "cell_type": "markdown",
   "metadata": {},
   "source": [
    "We're reciving the feed, but only printing the `value` field. Adafruit IO feeds hold **a lot** of metadata about the data sent to Adafruit IO, including when it was created. "
   ]
  },
  {
   "cell_type": "code",
   "execution_count": null,
   "metadata": {},
   "outputs": [],
   "source": [
    "print('Recieved value from test feed has the following metadata: {0}'.format(data))"
   ]
  }
 ],
 "metadata": {
  "kernelspec": {
   "display_name": "Python 3",
   "language": "python",
   "name": "python3"
  },
  "language_info": {
   "codemirror_mode": {
    "name": "ipython",
    "version": 3
   },
   "file_extension": ".py",
   "mimetype": "text/x-python",
   "name": "python",
   "nbconvert_exporter": "python",
   "pygments_lexer": "ipython3",
   "version": "3.6.4"
  }
 },
 "nbformat": 4,
 "nbformat_minor": 1
}
